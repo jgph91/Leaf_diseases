{
 "cells": [
  {
   "cell_type": "code",
   "execution_count": 2,
   "metadata": {},
   "outputs": [
    {
     "name": "stderr",
     "output_type": "stream",
     "text": [
      "Using TensorFlow backend.\n"
     ]
    }
   ],
   "source": [
    "from src.image_collector import convert_image_to_array\n",
    "import pickle\n",
    "from keras.models import load_model\n",
    "from keras.models import model_from_json\n",
    "import numpy as np\n",
    "import cv2\n",
    "from os import listdir\n",
    "from sklearn.model_selection import train_test_split\n",
    "from sklearn.preprocessing import MultiLabelBinarizer\n",
    "from sklearn.preprocessing import LabelBinarizer\n",
    "from keras.models import Sequential\n",
    "from keras.layers.normalization import BatchNormalization\n",
    "from keras.layers.convolutional import Conv2D\n",
    "from keras.layers.convolutional import MaxPooling2D\n",
    "from keras.layers.core import Activation, Flatten, Dropout, Dense\n",
    "from keras import backend as K\n",
    "from keras.preprocessing.image import ImageDataGenerator\n",
    "from keras.optimizers import Adam\n",
    "from keras.preprocessing import image"
   ]
  },
  {
   "cell_type": "code",
   "execution_count": 3,
   "metadata": {},
   "outputs": [],
   "source": [
    "img = ('../color/Grape/Grape___Black_rot/8eb4a448-b517-4039-b736-9f108157de73___FAM_B.Rot 3596.JPG')\n",
    "\n",
    "img=convert_image_to_array(img)"
   ]
  },
  {
   "cell_type": "code",
   "execution_count": 4,
   "metadata": {},
   "outputs": [],
   "source": [
    "CLASSES = ['Grape___Black_rot', 'Grape___Esca_(Black_Measles)',\n",
    " 'Grape___Leaf_blight_(Isariopsis_Leaf_Spot)', 'Grape___healthy',\n",
    " 'Pepper_bell___Bacterial_spot', 'Pepper_bell___healthy',\n",
    " 'Potato___Early_blight', 'Potato___Late_blight', 'Potato___healthy',\n",
    " 'Tomato___Bacterial_spot', 'Tomato___Early_blight', 'Tomato___Late_blight',\n",
    " 'Tomato___Septoria_leaf_spot', 'Tomato___Target_Spot',\n",
    " 'Tomato___Tomato_mosaic_virus', 'Tomato___healthy']"
   ]
  },
  {
   "cell_type": "code",
   "execution_count": 5,
   "metadata": {},
   "outputs": [
    {
     "name": "stdout",
     "output_type": "stream",
     "text": [
      "Loaded model from disk\n"
     ]
    }
   ],
   "source": [
    "# load json and create model\n",
    "json_file = open('./Output/model.json', 'r')\n",
    "loaded_model_json = json_file.read()\n",
    "json_file.close()\n",
    "loaded_model = model_from_json(loaded_model_json)\n",
    "# load weights into new model\n",
    "loaded_model.load_weights('./Output/weights-improvement-70-0.97.hdf5')\n",
    "print(\"Loaded model from disk\")"
   ]
  },
  {
   "cell_type": "code",
   "execution_count": 6,
   "metadata": {},
   "outputs": [
    {
     "name": "stdout",
     "output_type": "stream",
     "text": [
      "Pepper_bell___healthy\n"
     ]
    }
   ],
   "source": [
    "pred = loaded_model.predict(np.expand_dims(img,axis=0))\n",
    "print(CLASSES[list(pred[0]).index(1)])"
   ]
  },
  {
   "cell_type": "code",
   "execution_count": 7,
   "metadata": {},
   "outputs": [
    {
     "name": "stdout",
     "output_type": "stream",
     "text": [
      "probability:0.9999993\n",
      "Grape___Black_rot\n"
     ]
    }
   ],
   "source": [
    "img = ('../color/Grape/Grape___Black_rot/8c2374fd-2ad8-4f94-8634-9adfc9933444___FAM_B.Rot 0543.JPG')\n",
    "\n",
    "img=convert_image_to_array(img)\n",
    "\n",
    "np_image_li = np.array(img, dtype=np.float16) / 255.0\n",
    "npp_image = np.expand_dims(np_image_li, axis=0)\n",
    "result=loaded_model.predict(npp_image)\n",
    "itemindex = np.where(result==np.max(result))\n",
    "print(\"probability:\"+str(np.max(result))+\"\\n\"+CLASSES[itemindex[1][0]])"
   ]
  },
  {
   "cell_type": "code",
   "execution_count": 16,
   "metadata": {},
   "outputs": [
    {
     "name": "stdout",
     "output_type": "stream",
     "text": [
      "probability:0.5848666\n",
      "Pepper_bell___healthy\n"
     ]
    }
   ],
   "source": [
    "img = ('../color/Grape/Grape___Black_rot/9ddfa57d-e31d-43ef-9738-c62b14b71af8___FAM_B.Rot 3407.JPG')\n",
    "\n",
    "img=convert_image_to_array(img)\n",
    "\n",
    "np_image_li = np.array(img, dtype=np.float16) / 225.0\n",
    "npp_image = np.expand_dims(np_image_li, axis=0)\n",
    "result=loaded_model.predict(npp_image)\n",
    "itemindex = np.where(result==np.max(result))\n",
    "print(\"probability:\"+str(np.max(result))+\"\\n\"+CLASSES[itemindex[1][0]])"
   ]
  },
  {
   "cell_type": "code",
   "execution_count": 17,
   "metadata": {},
   "outputs": [
    {
     "name": "stdout",
     "output_type": "stream",
     "text": [
      "probability:0.9924189\n",
      "Grape___Black_rot\n"
     ]
    }
   ],
   "source": [
    "img = ('../color/Grape/Grape___Black_rot/9e074d2d-0075-4e9e-9648-2bf0332517df___FAM_B.Rot 3212.JPG')\n",
    "\n",
    "img=convert_image_to_array(img)\n",
    "\n",
    "np_image_li = np.array(img, dtype=np.float16) / 225.0\n",
    "npp_image = np.expand_dims(np_image_li, axis=0)\n",
    "result=loaded_model.predict(npp_image)\n",
    "itemindex = np.where(result==np.max(result))\n",
    "print(\"probability:\"+str(np.max(result))+\"\\n\"+CLASSES[itemindex[1][0]])"
   ]
  },
  {
   "cell_type": "code",
   "execution_count": 13,
   "metadata": {},
   "outputs": [
    {
     "name": "stdout",
     "output_type": "stream",
     "text": [
      "probability:1.0\n",
      "Grape___Esca_(Black_Measles)\n"
     ]
    }
   ],
   "source": [
    "img = ('../color/Grape/Grape___Esca_(Black_Measles)/0a4403ee-995a-4dbd-add7-f13bf17e15dd___FAM_B.Msls 4248.JPG')\n",
    "\n",
    "img=convert_image_to_array(img)\n",
    "\n",
    "np_image_li = np.array(img, dtype=np.float16) / 225.0\n",
    "npp_image = np.expand_dims(np_image_li, axis=0)\n",
    "result=loaded_model.predict(npp_image)\n",
    "itemindex = np.where(result==np.max(result))\n",
    "print(\"probability:\"+str(np.max(result))+\"\\n\"+CLASSES[itemindex[1][0]])"
   ]
  },
  {
   "cell_type": "code",
   "execution_count": 14,
   "metadata": {},
   "outputs": [
    {
     "name": "stdout",
     "output_type": "stream",
     "text": [
      "probability:1.0\n",
      "Grape___Esca_(Black_Measles)\n"
     ]
    }
   ],
   "source": [
    "\n",
    "\n",
    "img = ('../color/Grape/Grape___Esca_(Black_Measles)/1a56bd56-1e8b-4d61-8469-2df3a74c1c10___FAM_B.Msls 4059.JPG')\n",
    "\n",
    "img=convert_image_to_array(img)\n",
    "\n",
    "np_image_li = np.array(img, dtype=np.float16) / 225.0\n",
    "npp_image = np.expand_dims(np_image_li, axis=0)\n",
    "result=loaded_model.predict(npp_image)\n",
    "itemindex = np.where(result==np.max(result))\n",
    "print(\"probability:\"+str(np.max(result))+\"\\n\"+CLASSES[itemindex[1][0]])"
   ]
  },
  {
   "cell_type": "code",
   "execution_count": 15,
   "metadata": {},
   "outputs": [
    {
     "name": "stdout",
     "output_type": "stream",
     "text": [
      "probability:1.0\n",
      "Pepper_bell___healthy\n"
     ]
    }
   ],
   "source": [
    "img=('../color/Pepper_bell_healthy.JPG')\n",
    "img=convert_image_to_array(img)\n",
    "\n",
    "np_image_li = np.array(img, dtype=np.float16) / 225.0\n",
    "npp_image = np.expand_dims(np_image_li, axis=0)\n",
    "result=loaded_model.predict(npp_image)\n",
    "itemindex = np.where(result==np.max(result))\n",
    "print(\"probability:\"+str(np.max(result))+\"\\n\"+CLASSES[itemindex[1][0]])"
   ]
  },
  {
   "cell_type": "code",
   "execution_count": null,
   "metadata": {},
   "outputs": [],
   "source": []
  }
 ],
 "metadata": {
  "kernelspec": {
   "display_name": "Python 3",
   "language": "python",
   "name": "python3"
  },
  "language_info": {
   "codemirror_mode": {
    "name": "ipython",
    "version": 3
   },
   "file_extension": ".py",
   "mimetype": "text/x-python",
   "name": "python",
   "nbconvert_exporter": "python",
   "pygments_lexer": "ipython3",
   "version": "3.7.5"
  }
 },
 "nbformat": 4,
 "nbformat_minor": 2
}
