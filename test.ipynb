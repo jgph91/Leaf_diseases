{
 "cells": [
  {
   "cell_type": "code",
   "execution_count": 1,
   "metadata": {},
   "outputs": [
    {
     "name": "stderr",
     "output_type": "stream",
     "text": [
      "Using TensorFlow backend.\n"
     ]
    }
   ],
   "source": [
    "\n",
    "from src.tools import convert_image_to_array,labels\n",
    "import numpy as np\n",
    "import pickle\n",
    "import cv2\n",
    "from os import listdir\n",
    "from sklearn.model_selection import train_test_split\n",
    "from sklearn.preprocessing import MultiLabelBinarizer\n",
    "from sklearn.preprocessing import LabelBinarizer\n",
    "from keras.models import Sequential\n",
    "from keras.layers.normalization import BatchNormalization\n",
    "from keras.layers.convolutional import Conv2D\n",
    "from keras.layers.convolutional import MaxPooling2D\n",
    "from keras.layers.core import Activation, Flatten, Dropout, Dense\n",
    "from keras import backend as K\n",
    "from keras.preprocessing.image import ImageDataGenerator\n",
    "from keras.optimizers import Adam\n",
    "from keras.preprocessing import image"
   ]
  },
  {
   "cell_type": "code",
   "execution_count": 2,
   "metadata": {},
   "outputs": [],
   "source": [
    "img = ('../color/Grape/Grape___Black_rot/8eb4a448-b517-4039-b736-9f108157de73___FAM_B.Rot 3596.JPG')\n",
    "\n",
    "img=convert_image_to_array(img)"
   ]
  },
  {
   "cell_type": "code",
   "execution_count": 3,
   "metadata": {},
   "outputs": [
    {
     "name": "stdout",
     "output_type": "stream",
     "text": [
      "[[0. 0. 0. 0. 0. 0. 0. 0. 0. 0. 0. 1. 0. 0. 0. 0.]]\n"
     ]
    }
   ],
   "source": [
    "loaded_model = pickle.load(open('./output/cnn_model.pkl', 'rb'))\n",
    "pred = loaded_model.predict(np.expand_dims(img,axis=0))\n",
    "print(pred)"
   ]
  },
  {
   "cell_type": "code",
   "execution_count": 4,
   "metadata": {},
   "outputs": [
    {
     "name": "stdout",
     "output_type": "stream",
     "text": [
      "[[0. 0. 0. 0. 1. 0. 0. 0. 0. 0. 0. 0. 0. 0. 0. 0.]]\n"
     ]
    }
   ],
   "source": [
    "img = ('../color/Grape/Grape___Black_rot/8c2374fd-2ad8-4f94-8634-9adfc9933444___FAM_B.Rot 0543.JPG')\n",
    "\n",
    "img=convert_image_to_array(img)\n",
    "\n",
    "loaded_model = pickle.load(open('./output/cnn_model.pkl', 'rb'))\n",
    "pred = loaded_model.predict(np.expand_dims(img,axis=0))\n",
    "print(pred)"
   ]
  },
  {
   "cell_type": "code",
   "execution_count": 5,
   "metadata": {},
   "outputs": [
    {
     "name": "stdout",
     "output_type": "stream",
     "text": [
      "[[0. 0. 0. 0. 0. 1. 0. 0. 0. 0. 0. 0. 0. 0. 0. 0.]]\n"
     ]
    }
   ],
   "source": [
    "img = ('../color/Grape/Grape___Black_rot/9ddfa57d-e31d-43ef-9738-c62b14b71af8___FAM_B.Rot 3407.JPG')\n",
    "\n",
    "img=convert_image_to_array(img)\n",
    "\n",
    "loaded_model = pickle.load(open('./output/cnn_model.pkl', 'rb'))\n",
    "pred = loaded_model.predict(np.expand_dims(img,axis=0))\n",
    "print(pred)"
   ]
  },
  {
   "cell_type": "code",
   "execution_count": 6,
   "metadata": {},
   "outputs": [
    {
     "name": "stdout",
     "output_type": "stream",
     "text": [
      "[[0.0000000e+00 0.0000000e+00 0.0000000e+00 0.0000000e+00 0.0000000e+00\n",
      "  3.0876599e-10 0.0000000e+00 0.0000000e+00 0.0000000e+00 0.0000000e+00\n",
      "  0.0000000e+00 1.0000000e+00 0.0000000e+00 0.0000000e+00 0.0000000e+00\n",
      "  0.0000000e+00]]\n"
     ]
    }
   ],
   "source": [
    "img = ('../color/Grape/Grape___Black_rot/9e074d2d-0075-4e9e-9648-2bf0332517df___FAM_B.Rot 3212.JPG')\n",
    "\n",
    "img=convert_image_to_array(img)\n",
    "\n",
    "loaded_model = pickle.load(open('./output/cnn_model.pkl', 'rb'))\n",
    "pred = loaded_model.predict(np.expand_dims(img,axis=0))\n",
    "print(pred)"
   ]
  },
  {
   "cell_type": "code",
   "execution_count": null,
   "metadata": {},
   "outputs": [],
   "source": []
  }
 ],
 "metadata": {
  "kernelspec": {
   "display_name": "Python 3",
   "language": "python",
   "name": "python3"
  },
  "language_info": {
   "codemirror_mode": {
    "name": "ipython",
    "version": 3
   },
   "file_extension": ".py",
   "mimetype": "text/x-python",
   "name": "python",
   "nbconvert_exporter": "python",
   "pygments_lexer": "ipython3",
   "version": "3.7.5"
  }
 },
 "nbformat": 4,
 "nbformat_minor": 2
}
