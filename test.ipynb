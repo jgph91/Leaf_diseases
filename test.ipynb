{
 "cells": [
  {
   "cell_type": "code",
   "execution_count": 15,
   "metadata": {},
   "outputs": [],
   "source": [
    "from src.image_collector import convert_image_to_array\n",
    "from keras.models import load_model\n",
    "from keras.models import model_from_json\n",
    "import numpy as np\n",
    "from os import listdir\n",
    "from keras.preprocessing import image"
   ]
  },
  {
   "cell_type": "code",
   "execution_count": 2,
   "metadata": {},
   "outputs": [],
   "source": [
    "model_dir = './Output/model.json'\n",
    "weight_dir= './Output/weights-improvement-70-0.97.hdf5'\n",
    "\n",
    "def predict(image_dir,model_dir,weight_dir):\n",
    "    '''Predict the disease of the given photo'''\n",
    "    \n",
    "    CLASSES = ['Grape___Black_rot', 'Grape___Esca_(Black_Measles)',\n",
    "     'Grape___Leaf_blight_(Isariopsis_Leaf_Spot)', 'Grape___healthy',\n",
    "     'Pepper_bell___Bacterial_spot', 'Pepper_bell___healthy',\n",
    "     'Tomato___Bacterial_spot', 'Tomato___Early_blight' ,'Tomato___Late_blight',\n",
    "     'Tomato___Septoria_leaf_spot', 'Tomato___Target_Spot',\n",
    "     'Tomato___Tomato_mosaic_virus', 'Tomato___healthy']\n",
    "    \n",
    "    # load json and create model\n",
    "    json_file = open(model_dir, 'r')\n",
    "    loaded_model_json = json_file.read()\n",
    "    json_file.close()\n",
    "    loaded_model = model_from_json(loaded_model_json)\n",
    "    # load weights into new model\n",
    "    loaded_model.load_weights(weight_dir)\n",
    "    print(\"Loaded model from disk\")\n",
    "    #image processing and recognition\n",
    "    \n",
    "    image_dir = convert_image_to_array(image_dir)\n",
    "    np_image_li = np.array(image_dir, dtype=np.float16) / 255.0\n",
    "    npp_image = np.expand_dims(np_image_li, axis=0)\n",
    "    result=loaded_model.predict(npp_image)\n",
    "    itemindex = np.where(result==np.max(result))\n",
    "    print(\"probability:\"+str(np.max(result))+\"\\n\"+CLASSES[itemindex[1][0]])\n",
    "    return result"
   ]
  },
  {
   "cell_type": "code",
   "execution_count": 16,
   "metadata": {},
   "outputs": [
    {
     "name": "stdout",
     "output_type": "stream",
     "text": [
      "Loaded model from disk\n",
      "probability:0.9999927\n",
      "Grape___Black_rot\n"
     ]
    },
    {
     "data": {
      "text/plain": [
       "'../color/Grape/Grape___Black_rot/8eb4a448-b517-4039-b736-9f108157de73___FAM_B.Rot 3596.JPG'"
      ]
     },
     "execution_count": 16,
     "metadata": {},
     "output_type": "execute_result"
    }
   ],
   "source": [
    "image_dir = ('../color/Grape/Grape___Black_rot/8eb4a448-b517-4039-b736-9f108157de73___FAM_B.Rot 3596.JPG')\n",
    "\n",
    "\n",
    "pred = predict(image_dir,model_dir,weight_dir)\n",
    "\n",
    "image_dir"
   ]
  },
  {
   "cell_type": "code",
   "execution_count": 4,
   "metadata": {},
   "outputs": [],
   "source": [
    "CLASSES = ['Grape___Black_rot', 'Grape___Esca_(Black_Measles)',\n",
    " 'Grape___Leaf_blight_(Isariopsis_Leaf_Spot)', 'Grape___healthy',\n",
    " 'Pepper_bell___Bacterial_spot', 'Pepper_bell___healthy',\n",
    " 'Potato___Early_blight', 'Potato___Late_blight', 'Potato___healthy',\n",
    " 'Tomato___Bacterial_spot', 'Tomato___Early_blight', 'Tomato___Late_blight',\n",
    " 'Tomato___Septoria_leaf_spot', 'Tomato___Target_Spot',\n",
    " 'Tomato___Tomato_mosaic_virus', 'Tomato___healthy']"
   ]
  },
  {
   "cell_type": "code",
   "execution_count": 5,
   "metadata": {},
   "outputs": [
    {
     "name": "stdout",
     "output_type": "stream",
     "text": [
      "Loaded model from disk\n"
     ]
    }
   ],
   "source": [
    "# load json and create model\n",
    "json_file = open('./Output/model.json', 'r')\n",
    "loaded_model_json = json_file.read()\n",
    "json_file.close()\n",
    "loaded_model = model_from_json(loaded_model_json)\n",
    "# load weights into new model\n",
    "loaded_model.load_weights('./Output/weights-improvement-70-0.97.hdf5')\n",
    "print(\"Loaded model from disk\")"
   ]
  },
  {
   "cell_type": "code",
   "execution_count": 6,
   "metadata": {},
   "outputs": [
    {
     "name": "stdout",
     "output_type": "stream",
     "text": [
      "probability:0.9999993\n",
      "Grape___Black_rot\n"
     ]
    }
   ],
   "source": [
    "img = ('../color/Grape/Grape___Black_rot/8c2374fd-2ad8-4f94-8634-9adfc9933444___FAM_B.Rot 0543.JPG')\n",
    "\n",
    "img=convert_image_to_array(img)\n",
    "\n",
    "np_image_li = np.array(img, dtype=np.float16) / 255.0\n",
    "npp_image = np.expand_dims(np_image_li, axis=0)\n",
    "result=loaded_model.predict(npp_image)\n",
    "itemindex = np.where(result==np.max(result))\n",
    "print(\"probability:\"+str(np.max(result))+\"\\n\"+CLASSES[itemindex[1][0]])"
   ]
  },
  {
   "cell_type": "code",
   "execution_count": 7,
   "metadata": {},
   "outputs": [
    {
     "name": "stdout",
     "output_type": "stream",
     "text": [
      "probability:0.5848666\n",
      "Pepper_bell___healthy\n"
     ]
    }
   ],
   "source": [
    "img = ('../color/Grape/Grape___Black_rot/9ddfa57d-e31d-43ef-9738-c62b14b71af8___FAM_B.Rot 3407.JPG')\n",
    "\n",
    "img=convert_image_to_array(img)\n",
    "\n",
    "np_image_li = np.array(img, dtype=np.float16) / 225.0\n",
    "npp_image = np.expand_dims(np_image_li, axis=0)\n",
    "result=loaded_model.predict(npp_image)\n",
    "itemindex = np.where(result==np.max(result))\n",
    "print(\"probability:\"+str(np.max(result))+\"\\n\"+CLASSES[itemindex[1][0]])"
   ]
  },
  {
   "cell_type": "code",
   "execution_count": 8,
   "metadata": {},
   "outputs": [
    {
     "name": "stdout",
     "output_type": "stream",
     "text": [
      "probability:0.9924189\n",
      "Grape___Black_rot\n"
     ]
    }
   ],
   "source": [
    "img = ('../color/Grape/Grape___Black_rot/9e074d2d-0075-4e9e-9648-2bf0332517df___FAM_B.Rot 3212.JPG')\n",
    "\n",
    "img=convert_image_to_array(img)\n",
    "\n",
    "np_image_li = np.array(img, dtype=np.float16) / 225.0\n",
    "npp_image = np.expand_dims(np_image_li, axis=0)\n",
    "result=loaded_model.predict(npp_image)\n",
    "itemindex = np.where(result==np.max(result))\n",
    "print(\"probability:\"+str(np.max(result))+\"\\n\"+CLASSES[itemindex[1][0]])"
   ]
  },
  {
   "cell_type": "code",
   "execution_count": 9,
   "metadata": {},
   "outputs": [
    {
     "name": "stdout",
     "output_type": "stream",
     "text": [
      "Loaded model from disk\n",
      "probability:1.0\n",
      "Grape___Esca_(Black_Measles)\n"
     ]
    },
    {
     "data": {
      "text/plain": [
       "array([[2.3345295e-12, 1.0000000e+00, 6.7220111e-16, 1.6217697e-20,\n",
       "        1.2554432e-24, 2.3654457e-21, 1.1594157e-20, 3.1987086e-21,\n",
       "        1.1183272e-18, 3.3221128e-20, 4.0897066e-24, 6.3666245e-17,\n",
       "        3.6795727e-20]], dtype=float32)"
      ]
     },
     "execution_count": 9,
     "metadata": {},
     "output_type": "execute_result"
    }
   ],
   "source": [
    "img = ('../color/Grape/Grape___Esca_(Black_Measles)/0a4403ee-995a-4dbd-add7-f13bf17e15dd___FAM_B.Msls 4248.JPG')\n",
    "\n",
    "predict(img,model_dir,weight_dir)"
   ]
  },
  {
   "cell_type": "code",
   "execution_count": 10,
   "metadata": {},
   "outputs": [
    {
     "name": "stdout",
     "output_type": "stream",
     "text": [
      "Loaded model from disk\n",
      "probability:1.0\n",
      "Grape___Esca_(Black_Measles)\n"
     ]
    },
    {
     "data": {
      "text/plain": [
       "array([[1.5528768e-15, 1.0000000e+00, 4.8039156e-15, 1.9484608e-19,\n",
       "        1.2454864e-19, 7.5902682e-15, 1.5633277e-20, 1.6871925e-18,\n",
       "        3.0160184e-18, 4.9094398e-15, 2.4621702e-22, 1.6876577e-16,\n",
       "        3.0431871e-19]], dtype=float32)"
      ]
     },
     "execution_count": 10,
     "metadata": {},
     "output_type": "execute_result"
    }
   ],
   "source": [
    "\n",
    "\n",
    "img = ('../color/Grape/Grape___Esca_(Black_Measles)/1a56bd56-1e8b-4d61-8469-2df3a74c1c10___FAM_B.Msls 4059.JPG')\n",
    "\n",
    "predict(img,model_dir,weight_dir)"
   ]
  },
  {
   "cell_type": "code",
   "execution_count": 12,
   "metadata": {},
   "outputs": [
    {
     "name": "stdout",
     "output_type": "stream",
     "text": [
      "Pepper_bell_healthy.JPG\n",
      "Loaded model from disk\n",
      "probability:1.0\n",
      "Pepper_bell___healthy\n",
      "Tomato_mosaic_virus.JPG\n",
      "Loaded model from disk\n",
      "probability:0.99999905\n",
      "Tomato___Tomato_mosaic_virus\n",
      "Grape_Leaf_spot.JPG\n",
      "Loaded model from disk\n",
      "probability:1.0\n",
      "Grape___Leaf_blight_(Isariopsis_Leaf_Spot)\n",
      "Tomato_septoria.JPG\n",
      "Loaded model from disk\n",
      "probability:0.99999416\n",
      "Tomato___Septoria_leaf_spot\n",
      "Tomato_bacterial_spot.JPG\n",
      "Loaded model from disk\n",
      "probability:1.0\n",
      "Tomato___Bacterial_spot\n",
      "Grape_healthy.JPG\n",
      "Loaded model from disk\n",
      "probability:1.0\n",
      "Grape___healthy\n",
      "Tomato_healthy.JPG\n",
      "Loaded model from disk\n",
      "probability:1.0\n",
      "Tomato___healthy\n",
      "Pepper_Bell_Bacerial_spot.JPG\n",
      "Loaded model from disk\n",
      "probability:1.0\n",
      "Pepper_bell___Bacterial_spot\n",
      "Grape_Black_rot.JPG\n",
      "Loaded model from disk\n",
      "probability:0.99989986\n",
      "Grape___Black_rot\n",
      "Grape_Black_Measles.JPG\n",
      "Loaded model from disk\n",
      "probability:0.9999994\n",
      "Grape___Esca_(Black_Measles)\n",
      "Tomato_early_blight.JPG\n",
      "Loaded model from disk\n",
      "probability:0.98646647\n",
      "Tomato___Early_blight\n",
      "Tomato_late_blight.JPG\n",
      "Loaded model from disk\n",
      "probability:0.9960108\n",
      "Tomato___Late_blight\n",
      "Tomato_target_spot.JPG\n",
      "Loaded model from disk\n",
      "probability:0.9990716\n",
      "Tomato___Target_Spot\n"
     ]
    }
   ],
   "source": [
    "#12/13 right\n",
    "root_dir = listdir('./Input/Test/')\n",
    "for e in root_dir:\n",
    "    print(e)\n",
    "    predict('./Input/Test/'+e,model_dir,weight_dir)"
   ]
  },
  {
   "cell_type": "code",
   "execution_count": null,
   "metadata": {},
   "outputs": [],
   "source": []
  }
 ],
 "metadata": {
  "kernelspec": {
   "display_name": "Python 3",
   "language": "python",
   "name": "python3"
  },
  "language_info": {
   "codemirror_mode": {
    "name": "ipython",
    "version": 3
   },
   "file_extension": ".py",
   "mimetype": "text/x-python",
   "name": "python",
   "nbconvert_exporter": "python",
   "pygments_lexer": "ipython3",
   "version": "3.7.5"
  }
 },
 "nbformat": 4,
 "nbformat_minor": 2
}
