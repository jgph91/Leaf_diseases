{
 "cells": [
  {
   "cell_type": "code",
   "execution_count": 4,
   "metadata": {},
   "outputs": [],
   "source": [
    "from src.image_collector import convert_image_to_array\n",
    "from keras.models import load_model\n",
    "from keras.models import model_from_json\n",
    "import numpy as np\n",
    "from os import listdir\n",
    "from keras.preprocessing import image"
   ]
  },
  {
   "cell_type": "code",
   "execution_count": 5,
   "metadata": {},
   "outputs": [],
   "source": [
    "model_dir = './output/model.json'\n",
    "weight_dir= './output/weights-improvement-70-0.97.hdf5'\n",
    "\n",
    "def predict(image_dir,model_dir,weight_dir):\n",
    "    '''Predict the disease of the given photo'''\n",
    "    \n",
    "    CLASSES = ['Grape_Black_rot', 'Grape_Black_Measles',\n",
    "     'Grape_Leaf_blight', 'Grape_healthy',\n",
    "     'Pepper_bell_Bacterial_spot', 'Pepper_bell_healthy',\n",
    "     'Tomato_Bacterial_spot', 'Tomato_Early_blight' ,'Tomato_Late_blight',\n",
    "     'Tomato_Septoria_leaf_spot', 'Tomato_Target_Spot',\n",
    "     'Tomato_mosaic_virus', 'Tomato_healthy']\n",
    "    \n",
    "    # load json and create model\n",
    "    json_file = open(model_dir, 'r')\n",
    "    loaded_model_json = json_file.read()\n",
    "    json_file.close()\n",
    "    loaded_model = model_from_json(loaded_model_json)\n",
    "    # load weights into new model\n",
    "    loaded_model.load_weights(weight_dir)\n",
    "    print(\"Loaded model from disk\")\n",
    "    #image processing and recognition\n",
    "    \n",
    "    image_dir = convert_image_to_array(image_dir)\n",
    "    np_image_li = np.array(image_dir, dtype=np.float16) / 255.0\n",
    "    npp_image = np.expand_dims(np_image_li, axis=0)\n",
    "    result=loaded_model.predict(npp_image)\n",
    "    itemindex = np.where(result==np.max(result))\n",
    "    print(\"probability:\"+str(np.max(result))+\"\\n\"+CLASSES[itemindex[1][0]])\n",
    "    return CLASSES[itemindex[1][0]]"
   ]
  },
  {
   "cell_type": "code",
   "execution_count": 6,
   "metadata": {},
   "outputs": [
    {
     "name": "stdout",
     "output_type": "stream",
     "text": [
      "Loaded model from disk\n",
      "probability:0.9999994\n",
      "Grape_Black_Measles\n"
     ]
    },
    {
     "data": {
      "text/plain": [
       "'Grape_Black_Measles'"
      ]
     },
     "execution_count": 6,
     "metadata": {},
     "output_type": "execute_result"
    }
   ],
   "source": [
    "image_dir = ('./input/Test/Grape_Black_Measles.JPG')\n",
    "\n",
    "predict(image_dir,model_dir,weight_dir)\n"
   ]
  },
  {
   "cell_type": "code",
   "execution_count": null,
   "metadata": {},
   "outputs": [],
   "source": []
  }
 ],
 "metadata": {
  "kernelspec": {
   "display_name": "Python 3",
   "language": "python",
   "name": "python3"
  },
  "language_info": {
   "codemirror_mode": {
    "name": "ipython",
    "version": 3
   },
   "file_extension": ".py",
   "mimetype": "text/x-python",
   "name": "python",
   "nbconvert_exporter": "python",
   "pygments_lexer": "ipython3",
   "version": "3.6.9"
  }
 },
 "nbformat": 4,
 "nbformat_minor": 2
}
